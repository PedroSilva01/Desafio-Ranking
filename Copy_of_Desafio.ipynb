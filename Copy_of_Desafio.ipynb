{
  "nbformat": 4,
  "nbformat_minor": 0,
  "metadata": {
    "colab": {
      "provenance": []
    },
    "kernelspec": {
      "name": "python3",
      "display_name": "Python 3"
    },
    "language_info": {
      "name": "python"
    }
  },
  "cells": [
    {
      "cell_type": "code",
      "execution_count": 1,
      "metadata": {
        "id": "ylri0MumC-MX"
      },
      "outputs": [],
      "source": [
        "import pandas as pd\n",
        "import io\n",
        "import os\n",
        "from openpyxl.utils.dataframe import dataframe_to_rows\n",
        "from openpyxl import load_workbook"
      ]
    },
    {
      "cell_type": "code",
      "source": [
        "from google.colab import files\n",
        "uploaded = files.upload()"
      ],
      "metadata": {
        "id": "Mqf2S21ma00K"
      },
      "execution_count": null,
      "outputs": []
    },
    {
      "cell_type": "code",
      "source": [
        "df_2016 = pd.read_excel(io.BytesIO(uploaded['Ranking_2016.xlsx']), sheet_name='AS')\n",
        "df_2017 = pd.read_excel(io.BytesIO(uploaded['Ranking_2017.xlsx']), sheet_name='AS')\n",
        "df_2018 = pd.read_excel(io.BytesIO(uploaded['Ranking_2018.xlsx']), sheet_name='AS')\n",
        "df_2019 = pd.read_excel(io.BytesIO(uploaded['Ranking_2019.xlsx']), sheet_name='AS')\n",
        "df_2020 = pd.read_excel(io.BytesIO(uploaded['Ranking_2020.xlsx']), sheet_name='AS')\n",
        "df_2021 = pd.read_excel(io.BytesIO(uploaded['Ranking_2021.xlsx']), sheet_name='AS')\n",
        "df_2022 = pd.read_excel(io.BytesIO(uploaded['Ranking_2022.xlsx']), sheet_name='AS')\n",
        "df_2023 = pd.read_excel(io.BytesIO(uploaded['Ranking_2023.xlsx']), sheet_name='AS')"
      ],
      "metadata": {
        "id": "zpM8UOV5RWT_"
      },
      "execution_count": 3,
      "outputs": []
    },
    {
      "cell_type": "code",
      "source": [
        "values_2016, values_2017, values_2018, values_2019, values_2020, values_2021, values_2022, values_2023 = df_2016.iloc[4:31,22], df_2017.iloc[4:31,23], df_2018.iloc[4:31,24], df_2019.iloc[4:31,25], df_2020.iloc[4:31,26], df_2021.iloc[4:31,27], df_2022.iloc[4:31,28], df_2023.iloc[4:31,29]\n",
        "values_2016[:]"
      ],
      "metadata": {
        "id": "9Rp4x60URWPD"
      },
      "execution_count": null,
      "outputs": []
    },
    {
      "cell_type": "code",
      "source": [
        "states_2016, states_2017, states_2018, states_2019, states_2020, states_2021, states_2022, states_2023 = df_2016.iloc[4:31, 4], df_2017.iloc[4:31, 4], df_2018.iloc[4:31, 4], df_2019.iloc[4:31, 4], df_2020.iloc[4:31, 4], df_2021.iloc[4:31, 4], df_2022.iloc[4:31, 4], df_2023.iloc[4:31, 4]\n",
        "states_2016[:]"
      ],
      "metadata": {
        "id": "tpPBvG3uebHU"
      },
      "execution_count": null,
      "outputs": []
    },
    {
      "cell_type": "code",
      "source": [
        "'''dict_2016, = {}\n",
        "for i in range(4,30,1):\n",
        "  dict_2016.update({states_2016[i]:values_2016[i]})\n",
        "print(dict_2016)'''"
      ],
      "metadata": {
        "id": "i7kdZ97Tm_Ba"
      },
      "execution_count": null,
      "outputs": []
    },
    {
      "cell_type": "code",
      "source": [
        "all_sheet_dicts = {}\n",
        "print(uploaded.values())\n",
        "for filename in uploaded.keys():\n",
        "  sheets = pd.read_excel(io.BytesIO(uploaded[filename]), sheet_name=None)\n",
        "  nomes_das_abas = sheets.keys()\n",
        "  all_sheet_dicts[filename] = sheets\n",
        "'''{(sheets = pd.read_excel(io.BytesIO(arquivos[filename]), sheet_name=None)) {} for filename in uploaded.keys() }'''"
      ],
      "metadata": {
        "id": "PSO2lWM4gysk"
      },
      "execution_count": null,
      "outputs": []
    },
    {
      "cell_type": "code",
      "source": [
        "final_name_sheet = []\n",
        "for cornerstone in uploaded.keys():\n",
        "  for i in all_sheet_dicts[cornerstone].keys():\n",
        "    final_name_sheet.append(i)\n",
        "  #sheet_final_name = all_sheet_dicts[cornerstone].keys()\n",
        "print(final_name_sheet[:])"
      ],
      "metadata": {
        "colab": {
          "base_uri": "https://localhost:8080/"
        },
        "id": "AMlz0f2-bc--",
        "outputId": "f4f439bd-1780-40de-ba73-4cafbeb939ba"
      },
      "execution_count": 78,
      "outputs": [
        {
          "output_type": "stream",
          "name": "stdout",
          "text": [
            "['Índice', 'Descrições', 'Geral', 'AS', 'CH', 'ED', 'EP', 'IF', 'IN', 'PM', 'SF', 'SP', 'SS', 'AS_EM', 'AS_LC', 'AS_LX', 'AS_TE', 'CH_CM', 'CH_PA', 'CH_PT', 'CH_QT', 'ED_AE', 'ED_E1', 'ED_E2', 'ED_E3', 'ED_IO', 'ED_UF', 'ED_UM', 'EP_EJ', 'EP_EP', 'EP_JP', 'EP_LP', 'EP_IT', 'EP_SC', 'IF_AT_FI', 'IF_CR', 'IF_CS', 'IF_DV', 'IF_EL_FI', 'IF_I1', 'IF_I2', 'IF_MO', 'IF_QR', 'IF_QT', 'IN_AF', 'IN_IF', 'IN_PF', 'PM_PB_TM', 'PM_PB_TX', 'PM_FT', 'SF_CI', 'SF_RN', 'SF_SF', 'SF_SO', 'SF_AU', 'SF_RP', 'SP_JC', 'SP_CC', 'SP_IH', 'SP_MT', 'SP_SG', 'SP_SP', 'SS_AL', 'SS_AM', 'SS_BE', 'SS_DS', 'SS_DS_AG', 'SS_DS_ES', 'SS_ET', 'SS_EV', 'SS_FM', 'SS_IE', 'SS_IH', 'SS_IJ', 'SS_MA', 'SS_MP', 'SS_OS', 'SS_SI', 'Auxiliar', 'Índice', 'Geral', 'AS', 'CH', 'ED', 'EP', 'IF', 'IN', 'PM', 'SF', 'SP', 'SS', 'AS_EM', 'AS_LC', 'AS_LX', 'AS_TE', 'CH_CM', 'CH_PA', 'CH_PT', 'CH_QT', 'ED_AE', 'ED_E1', 'ED_E2', 'ED_E3', 'ED_IO', 'ED_UF', 'ED_UM', 'ED_CI', 'EP_EJ', 'EP_EP', 'EP_JP', 'EP_LP', 'EP_IT', 'EP_SC', 'IF_AT_FI', 'IF_CR', 'IF_CS', 'IF_DV', 'IF_EL_FI', 'IF_I1', 'IF_I2', 'IF_MO', 'IF_QR', 'IF_QT', 'IN_AF', 'IN_IF', 'IN_PF', 'PM_PB_TM', 'PM_PB_TX', 'PM_FT', 'SF_CI', 'SF_RN', 'SF_SF', 'SF_SO', 'SF_AU', 'SF_RP', 'SP_JC', 'SP_CC', 'SP_IH', 'SP_MT', 'SP_SG', 'SP_SP', 'SS_AL', 'SS_AM', 'SS_BE', 'SS_DS', 'SS_DS_AG', 'SS_DS_ES', 'SS_ET', 'SS_EV', 'SS_FM', 'SS_IE', 'SS_IH', 'SS_IJ', 'SS_MA', 'SS_MP', 'SS_OS', 'SS_SI', 'Auxiliar', 'Índice', 'Geral', 'AS', 'CH', 'ED', 'EP', 'IF', 'IN', 'PM', 'SF', 'SP', 'SS', 'AS_EM', 'AS_LC', 'AS_LX', 'AS_TE', 'CH_CM', 'CH_PA', 'CH_PT', 'CH_QT', 'ED_AE', 'ED_E1', 'ED_E2', 'ED_E3', 'ED_IO', 'ED_UF', 'ED_UM', 'ED_CI', 'EP_EJ', 'EP_EP', 'EP_JP', 'EP_LP', 'EP_IT', 'EP_SC', 'IF_AT_FI', 'IF_CR', 'IF_CS', 'IF_DV', 'IF_EL_FI', 'IF_I1', 'IF_I2', 'IF_MO', 'IF_QR', 'IF_QT', 'IN_AF', 'IN_IF', 'IN_PF', 'PM_PB_TM', 'PM_PB_TX', 'PM_FT', 'SF_CI', 'SF_RN', 'SF_SF', 'SF_SO', 'SF_AU', 'SF_RP', 'SP_JC', 'SP_SC', 'SP_CC', 'SP_IH', 'SP_MT', 'SP_SG', 'SP_SP', 'SP_QI', 'SS_AL', 'SS_AM', 'SS_BE', 'SS_DS', 'SS_DS_AG', 'SS_DS_ES', 'SS_ET', 'SS_EV', 'SS_FM', 'SS_IE', 'SS_IH', 'SS_IJ', 'SS_MA', 'SS_MP', 'SS_OS', 'SS_SI', 'Índice', 'Geral', 'AS', 'CH', 'ED', 'EP', 'IF', 'IN', 'PM', 'SF', 'SP', 'SS', 'AS_EM', 'AS_LC', 'AS_LX', 'AS_TE', 'AS_PA', 'CH_CM', 'CH_PA', 'CH_PT', 'CH_QT', 'ED_AE', 'ED_E1', 'ED_E2', 'ED_E3', 'ED_IO', 'ED_UF', 'ED_UM', 'ED_CI', 'EP_EJ', 'EP_EP', 'EP_JP', 'EP_LP', 'EP_IT', 'IF_AT_FI', 'IF_QT', 'IF_CR', 'IF_CS', 'IF_DV', 'IF_EL_FI', 'IF_I1', 'IF_I2', 'IF_QR', 'IN_IF', 'IN_PF', 'IN_BC', 'IN_IN', 'PM_PB_TM', 'PM_PB_TX', 'PM_FT', 'SF_CI', 'SF_RN', 'SF_SF', 'SF_SO', 'SF_AU', 'SF_RP', 'SF_GP', 'SF_IL', 'SF_PC', 'SP_JC', 'SP_SC', 'SP_CC', 'SP_IH', 'SP_MT', 'SP_MO', 'SP_SG', 'SP_SP', 'SP_QI', 'SS_AM', 'SS_BE', 'SS_DS', 'SS_DS_AG', 'SS_DS_ES', 'SS_EV', 'SS_FM', 'SS_IE', 'SS_IH', 'SS_IJ', 'SS_MA', 'SS_MP', 'SS_SI', 'Índice', 'Geral', 'AS', 'CH', 'ED', 'EP', 'IF', 'IN', 'PM', 'SF', 'SP', 'SS', 'AS_EM', 'AS_LC', 'AS_LX', 'AS_TE', 'AS_PA', 'CH_CM', 'CH_PA', 'CH_PT', 'CH_QT', 'ED_AE', 'ED_E1', 'ED_E2', 'ED_IO', 'ED_UF', 'ED_UM', 'ED_CI', 'EP_EJ', 'EP_EP', 'EP_JP', 'EP_LP', 'EP_IT', 'EP_QI', 'EP_PJ', 'EP_SG', 'IF_AT_FI', 'IF_QT', 'IF_CR', 'IF_CS', 'IF_DV', 'IF_EL_FI', 'IF_I1', 'IF_I2', 'IF_QR', 'IF_FO', 'IN_IF', 'IN_PF', 'IN_BC', 'IN_IN', 'IN_PC', 'PM_PB_TM', 'PM_PB_TX', 'PM_FT', 'SF_CI', 'SF_RO', 'SF_SF', 'SF_SO', 'SF_AU', 'SF_RP', 'SF_GP', 'SF_IL', 'SF_PC', 'SP_JC', 'SP_SC', 'SP_CC', 'SP_IH', 'SP_MT', 'SP_MO', 'SP_SG', 'SP_SP', 'SP_QI', 'SS_AM', 'SS_BE', 'SS_DS', 'SS_DS_AG', 'SS_DS_ES', 'SS_EV', 'SS_FM', 'SS_IE', 'SS_IH', 'SS_IJ', 'SS_MA', 'SS_MP', 'SS_SI', 'Índice', 'Geral', 'AS', 'CH', 'ED', 'EP', 'IF', 'IN', 'PM', 'SF', 'SP', 'SS', 'AS_EM', 'AS_LC', 'AS_LX', 'AS_TE', 'AS_PA', 'AS_RL', 'AS_CS', 'AS_DM', 'AS_VD', 'AS_RD', 'AS_TR', 'CH_CM', 'CH_PA', 'CH_PT', 'CH_QT', 'ED_AE', 'ED_E1', 'ED_E2', 'ED_IO', 'ED_UF', 'ED_UM', 'ED_CI', 'EP_EJ', 'EP_EP', 'EP_JP', 'EP_LP', 'EP_IT', 'EP_QI', 'EP_PJ', 'EP_SG', 'EP_PS', 'EP_EG', 'EP_GE', 'IF_AT_FI', 'IF_QT', 'IF_CR', 'IF_CS', 'IF_DV', 'IF_EL_FI', 'IF_I1', 'IF_I2', 'IF_QR', 'IF_FO', 'IN_IF', 'IN_PF', 'IN_BC', 'IN_IN', 'IN_PC', 'PM_PB_TM', 'PM_PB_TX', 'PM_FT', 'SF_CI', 'SF_RO', 'SF_SF', 'SF_SO', 'SF_AU', 'SF_RP', 'SF_GP', 'SF_IL', 'SF_PC', 'SP_JC', 'SP_SC', 'SP_CC', 'SP_IH', 'SP_MT', 'SP_MO', 'SP_SG', 'SP_SP', 'SP_QI', 'SS_AM', 'SS_BE', 'SS_DS', 'SS_DS_AG', 'SS_DS_ES', 'SS_EV', 'SS_FM', 'SS_IE', 'SS_IH', 'SS_IJ', 'SS_MA', 'SS_MP', 'SS_SI', 'SS_DI', 'SS_OI', 'SS_CV', 'SS_ER', 'Índice', 'Geral', 'AS', 'CH', 'ED', 'EP', 'IF', 'IN', 'PM', 'SF', 'SP', 'SS', 'AS_EM', 'AS_LC', 'AS_LX', 'AS_TE', 'AS_PA', 'AS_RL', 'AS_CS', 'AS_DM', 'AS_VD', 'AS_RD', 'AS_TR', 'CH_CM', 'CH_PA', 'CH_PT', 'CH_QT', 'ED_AE', 'ED_E1', 'ED_E2', 'ED_IO', 'ED_UF', 'ED_UM', 'ED_CI', 'EP_EJ', 'EP_EP', 'EP_JP', 'EP_LP', 'EP_IT', 'EP_QI', 'EP_PJ', 'EP_SG', 'EP_PS', 'EP_EG', 'EP_GE', 'IF_AT_FI', 'IF_QT', 'IF_CR', 'IF_CS', 'IF_DV', 'IF_EL_FI', 'IF_I1', 'IF_I2', 'IF_QR', 'IF_FO', 'IN_IF', 'IN_PF', 'IN_BC', 'IN_IN', 'IN_PC', 'PM_PB_TM', 'PM_PB_TX', 'PM_FT', 'SF_CI', 'SF_RO', 'SF_SF', 'SF_SO', 'SF_AU', 'SF_RP', 'SF_GP', 'SF_IL', 'SF_PC', 'SP_JC', 'SP_SC', 'SP_CC', 'SP_IH', 'SP_MT', 'SP_MO', 'SP_SG', 'SP_SP', 'SP_QI', 'SS_AM', 'SS_BE', 'SS_DS', 'SS_DS_AG', 'SS_DS_ES', 'SS_EV', 'SS_FM', 'SS_IE', 'SS_IH', 'SS_IJ', 'SS_MA', 'SS_MP', 'SS_SI', 'SS_DI', 'SS_OI', 'SS_CV', 'SS_ER', 'Índice', 'Geral', 'AS', 'CH', 'ED', 'EP', 'IF', 'IN', 'PM', 'SF', 'SP', 'SS', 'AS_EM', 'AS_LC', 'AS_LX', 'AS_TE', 'AS_PA', 'AS_RL', 'AS_CS', 'AS_DM', 'AS_VD', 'AS_RD', 'AS_TR', 'AS_PV', 'AS_VN', 'CH_CM', 'CH_PA', 'CH_PT', 'CH_QT', 'CH_FM', 'CH_IE', 'CH_IJ', 'CH_DL', 'CH_SB', 'ED_AE', 'ED_E1', 'ED_E2', 'ED_IO', 'ED_UF', 'ED_UM', 'ED_CI', 'EP_EJ', 'EP_EP', 'EP_JP', 'EP_LP', 'EP_IT', 'EP_QI', 'EP_PJ', 'EP_SG', 'EP_PS', 'EP_EG', 'EP_GE', 'IF_AT_FI', 'IF_QT', 'IF_CR', 'IF_CS', 'IF_DV', 'IF_EL_FI', 'IF_I1', 'IF_I2', 'IF_QR', 'IF_FO', 'IN_IF', 'IN_PF', 'IN_BC', 'IN_IN', 'IN_PC', 'IN_TC', 'IN_AC', 'PM_PB_TM', 'PM_PB_TX', 'PM_FT', 'PM_CR', 'PM_QC', 'PM_VC', 'PM_IN', 'SF_CI', 'SF_RO', 'SF_SF', 'SF_SO', 'SF_AU', 'SF_RP', 'SF_GP', 'SF_IL', 'SF_PC', 'SP_JC', 'SP_SC', 'SP_CC', 'SP_IH', 'SP_MT', 'SP_MO', 'SP_SG', 'SP_SP', 'SP_QI', 'SP_VS', 'SS_AM', 'SS_BE', 'SS_DS', 'SS_DS_AG', 'SS_DS_ES', 'SS_EV', 'SS_IH', 'SS_MA', 'SS_MP', 'SS_SI', 'SS_DI', 'SS_OI', 'SS_CV', 'SS_ER', 'SS_TI', 'SS_TE', 'Sheet1']\n"
          ]
        }
      ]
    },
    {
      "cell_type": "code",
      "source": [
        "#for sheet_name, data in sheets.items():\n",
        "  #I've got all the sheets names on this\n",
        "        #print(sheet_name)\n",
        "        # and here I've got all the lines that I need\n",
        "        # now I need to make a way to get only the column that I want\n",
        "        # for example if it's 2016 spreadsheet must be the 22 column, if it's 2017 must be the 23 column,\n",
        "        # maybe using an f method inside a for loop where I go from 2016 to 2023 iterating the year and the name of the sheet\n",
        "        # for examplo an for i in range(2016, 2024,1):\n",
        "        #   for x in len(sheet_name)\n",
        "        #     new_sheet_name = sheet_name[x]\n",
        "        #     dict_export.to_excel('Ranking_Results.xlsx', sheet_name=f'{new_sheet_name}', index=True, header=[x for x in range(2016, 2024,1)])\n",
        "\n",
        "        #na verdade, seria mais algo como\n",
        "\n",
        "dicts = {year: {} for year in range(2016, 2024)}\n",
        "for year in range(2016,2024,1):\n",
        "  states = globals()[f'states_{year}']\n",
        "  values = globals()[f'values_{year}']\n",
        "  for i in range(4, 31):\n",
        "    dicts[year].update({states[i]: values[i]})\n",
        "dict_export = pd.DataFrame(dicts)\n",
        "\n",
        "with pd.ExcelWriter('Ranking_Results.xlsx', engine='openpyxl') as writer:\n",
        "  for er in final_name_sheet:\n",
        "    dict_export.to_excel(writer, sheet_name=er, index=True, header=[x for x in range(2016, 2024,1)])\n",
        "\n",
        "        #print(data[4:31])"
      ],
      "metadata": {
        "id": "ILfJeNQAlP4F"
      },
      "execution_count": 76,
      "outputs": []
    },
    {
      "cell_type": "code",
      "source": [
        "for cornerstone_2 in uploaded.keys():\n",
        "  workbook = load_workbook(cornerstone_2)\n",
        "  try:\n",
        "    '''for cornerstone_sheet in final_name_sheet[3:]:\n",
        "      worksheet = workbook[cornerstone_sheet]\n",
        "      print(teste)'''\n",
        "    for i in range(3,len(final_name_sheet)-1,1):\n",
        "      teste = workbook.worksheets[i]\n",
        "      print(teste)\n",
        "      #cell = worksheet[\"W6:W32\"]\n",
        "  except KeyError:\n",
        "    pass\n",
        "  except IndexError:\n",
        "    pass\n",
        "'''for row in cell:\n",
        "  for cell_3 in row:\n",
        "    print(cell_3.value)'''"
      ],
      "metadata": {
        "id": "YdCGuT1CjtzY"
      },
      "execution_count": null,
      "outputs": []
    },
    {
      "cell_type": "code",
      "source": [
        "#for spread_sheet in range(2016, 2024,1):\n",
        "  #for spread_name_sheet in all_sheet_dicts:\n",
        "    #pass"
      ],
      "metadata": {
        "id": "UsVT65M0ygeU"
      },
      "execution_count": null,
      "outputs": []
    },
    {
      "cell_type": "code",
      "source": [
        "file_path_export = \"C:/\"\n",
        "print(os.path.isdir(file_path_export))\n",
        "print(os.listdir('.'))\n",
        "print(os.getcwd())\n",
        "dict_export = pd.DataFrame(dicts)\n",
        "\"\"\"dict_export.to_excel(file_path_export)\"\"\""
      ],
      "metadata": {
        "colab": {
          "base_uri": "https://localhost:8080/",
          "height": 125
        },
        "id": "DRaqJkpMm-_U",
        "outputId": "6734c2b3-5084-48cf-bd1c-7870a955c045"
      },
      "execution_count": null,
      "outputs": [
        {
          "output_type": "stream",
          "name": "stdout",
          "text": [
            "{2016: {'Acre': 31.922562167198876, 'Alagoas': 34.35384188165084, 'Amazonas': 62.70188874709945, 'Amapá': 41.70022615149939, 'Bahia': 41.718944282481424, 'Ceará': 44.13424787705825, 'Distrito Federal': 73.79397800814749, 'Espírito Santo': 48.7458574177098, 'Goiás': 53.38667824432781, 'Maranhão': 10.805867563099113, 'Minas Gerais': 47.04934892625499, 'Mato Grosso do Sul': 41.89708583431312, 'Mato Grosso': 16.753701742634995, 'Pará': 20.903569201521293, 'Paraíba': 39.941581342112066, 'Pernambuco': 39.534220977060514, 'Piauí': 20.79253952733056, 'Paraná': 71.2683947274808, 'Rio de Janeiro': 55.40716121055693, 'Rio Grande do Norte': 31.048396628037985, 'Rondônia': 14.058979676231209, 'Roraima': 64.22754155945682, 'Rio Grande do Sul': 39.067942592498525, 'Santa Catarina': 47.266722610019066, 'Sergipe': 34.008204620679535, 'São Paulo': 62.496592551749444, 'Tocantins': 27.890172877808546}, 2017: {'Acre': 41.935717262961276, 'Alagoas': 45.01295189914143, 'Amazonas': 62.88648875613489, 'Amapá': 55.362181794544554, 'Bahia': 50.988532062415004, 'Ceará': 54.119400031857936, 'Distrito Federal': 89.21750216255325, 'Espírito Santo': 56.68142157057842, 'Goiás': 58.168626832331526, 'Maranhão': 22.652643495004664, 'Minas Gerais': 54.333874998063806, 'Mato Grosso do Sul': 51.112049440964086, 'Mato Grosso': 18.213918906645915, 'Pará': 30.501269570075593, 'Paraíba': 51.918197155770095, 'Pernambuco': 57.60788087339197, 'Piauí': 12.351829378169807, 'Paraná': 77.0600258721747, 'Rio de Janeiro': 63.05062562600646, 'Rio Grande do Norte': 47.52464961135826, 'Rondônia': 9.512845931434816, 'Roraima': 75.56475806824189, 'Rio Grande do Sul': 51.182563804340816, 'Santa Catarina': 55.01594841748482, 'Sergipe': 34.62874228204378, 'São Paulo': 72.40926988578074, 'Tocantins': 37.95386664601553}, 2018: {'Acre': 38.49468445050651, 'Alagoas': 51.37326495404922, 'Amazonas': 60.26038673638713, 'Amapá': 58.88883927190875, 'Bahia': 39.92796015699169, 'Ceará': 54.32582767462759, 'Distrito Federal': 84.14964147227376, 'Espírito Santo': 57.38497768948422, 'Goiás': 61.992967541609886, 'Maranhão': 19.421620037962477, 'Minas Gerais': 53.350535873862015, 'Mato Grosso do Sul': 47.14540309063235, 'Mato Grosso': 21.444795535751112, 'Pará': 22.98389234696238, 'Paraíba': 48.2149447578841, 'Pernambuco': 54.26220382389043, 'Piauí': 8.828627745693254, 'Paraná': 71.53796761328722, 'Rio de Janeiro': 50.30471912712005, 'Rio Grande do Norte': 46.62694422452299, 'Rondônia': 16.580813638605438, 'Roraima': 74.71460803397657, 'Rio Grande do Sul': 56.231550917668216, 'Santa Catarina': 57.93648778474646, 'Sergipe': 33.872445492074576, 'São Paulo': 65.30905326546002, 'Tocantins': 31.28480696528938}, 2019: {'Acre': 32.9010930365369, 'Alagoas': 44.2914174514713, 'Amazonas': 46.32026096564278, 'Amapá': 47.820981616077304, 'Bahia': 58.545758101235855, 'Ceará': 51.831213306265965, 'Distrito Federal': 100, 'Espírito Santo': 68.80961873439753, 'Goiás': 72.5950543512752, 'Maranhão': 14.960081453321697, 'Minas Gerais': 67.72749894515198, 'Mato Grosso do Sul': 69.5122700724651, 'Mato Grosso': 36.66887206512819, 'Pará': 28.65360667712156, 'Paraíba': 53.733619283913605, 'Pernambuco': 50.83861424949213, 'Piauí': 31.784756869431902, 'Paraná': 79.90440959243614, 'Rio de Janeiro': 66.40384374204157, 'Rio Grande do Norte': 47.670425011533034, 'Rondônia': 0, 'Roraima': 64.7720102333967, 'Rio Grande do Sul': 56.59632539513857, 'Santa Catarina': 61.0206886439703, 'Sergipe': 38.50386829837439, 'São Paulo': 88.9537844578016, 'Tocantins': 46.01136553170327}, 2020: {'Acre': 10.984434556679993, 'Alagoas': 51.34441132258317, 'Amazonas': 48.32443513548769, 'Amapá': 49.79364608022085, 'Bahia': 62.511209136748604, 'Ceará': 57.080747834755506, 'Distrito Federal': 100, 'Espírito Santo': 78.4001565854605, 'Goiás': 74.03234886158334, 'Maranhão': 14.04871034994046, 'Minas Gerais': 70.22394991020802, 'Mato Grosso do Sul': 65.72641122191325, 'Mato Grosso': 45.58404068684371, 'Pará': 29.732597406564437, 'Paraíba': 64.93172085480623, 'Pernambuco': 48.770978337585014, 'Piauí': 29.833357795777683, 'Paraná': 84.51722459481684, 'Rio de Janeiro': 71.47052018692122, 'Rio Grande do Norte': 51.21846164819037, 'Rondônia': 0, 'Roraima': 62.39284223846021, 'Rio Grande do Sul': 61.515089794555486, 'Santa Catarina': 66.55221098528804, 'Sergipe': 42.50935757052316, 'São Paulo': 93.34512966254857, 'Tocantins': 45.25080936830291}, 2021: {'Acre': 14.037788891280742, 'Alagoas': 38.48439794307092, 'Amazonas': 42.957813971152525, 'Amapá': 33.40110862517779, 'Bahia': 42.49055494169769, 'Ceará': 44.832285685321466, 'Distrito Federal': 92.15688876100486, 'Espírito Santo': 64.55493644305542, 'Goiás': 60.29911703777833, 'Maranhão': 12.212797537827871, 'Minas Gerais': 66.82473299544579, 'Mato Grosso do Sul': 53.20203591783563, 'Mato Grosso': 40.11328438080477, 'Pará': 21.038252658226124, 'Paraíba': 39.207481657431025, 'Pernambuco': 41.091046104763, 'Piauí': 17.789031627133582, 'Paraná': 100, 'Rio de Janeiro': 63.42003886103368, 'Rio Grande do Norte': 15.492207304546563, 'Rondônia': 0, 'Roraima': 13.691129953081049, 'Rio Grande do Sul': 65.82134531724338, 'Santa Catarina': 72.57505112539405, 'Sergipe': 33.45641455090349, 'São Paulo': 96.18891026733874, 'Tocantins': 40.31280178411809}, 2022: {'Acre': 0, 'Alagoas': 55.228592411027186, 'Amazonas': 45.54245592059572, 'Amapá': 34.14608993971785, 'Bahia': 38.933093421213684, 'Ceará': 46.98307908665226, 'Distrito Federal': 87.4872794501284, 'Espírito Santo': 64.23633645682604, 'Goiás': 71.60715081075672, 'Maranhão': 6.191354581324876, 'Minas Gerais': 65.27988222632476, 'Mato Grosso do Sul': 57.19042982941699, 'Mato Grosso': 47.124183862880244, 'Pará': 20.594400409887058, 'Paraíba': 36.934769632367015, 'Pernambuco': 41.456057087499715, 'Piauí': 19.7874349562692, 'Paraná': 100, 'Rio de Janeiro': 67.8531016282788, 'Rio Grande do Norte': 15.73512624113068, 'Rondônia': 7.282504406149752, 'Roraima': 55.12812039121972, 'Rio Grande do Sul': 69.10748486225343, 'Santa Catarina': 80.70131097654364, 'Sergipe': 31.14309914597868, 'São Paulo': 97.85680334678574, 'Tocantins': 30.26963509586057}, 2023: {'Acre': 16.911177286859523, 'Alagoas': 21.385559569028942, 'Amazonas': 64.58327399627854, 'Amapá': 58.164271672829024, 'Bahia': 24.846404846379546, 'Ceará': 55.499623238754545, 'Distrito Federal': 88.59755078407365, 'Espírito Santo': 75.5981886914844, 'Goiás': 71.09773152846813, 'Maranhão': 0, 'Minas Gerais': 68.56586730564722, 'Mato Grosso do Sul': 54.88615458582331, 'Mato Grosso': 52.235907622691954, 'Pará': 32.08816127657484, 'Paraíba': 43.81326283628145, 'Pernambuco': 49.50195708433721, 'Piauí': 28.626881495896626, 'Paraná': 100, 'Rio de Janeiro': 69.78707744985321, 'Rio Grande do Norte': 19.447907116958977, 'Rondônia': 13.381733171370778, 'Roraima': 41.5947788027055, 'Rio Grande do Sul': 67.7359673961569, 'Santa Catarina': 72.59471247925823, 'Sergipe': 14.965106351151238, 'São Paulo': 89.73839661147015, 'Tocantins': 26.487147634922803}}\n",
            "False\n",
            "['.config', 'Ranking_2020.xlsx', 'Ranking_2019.xlsx', 'Ranking_2022.xlsx', 'Ranking_2023.xlsx', 'Ranking_2017.xlsx', 'Ranking_2016.xlsx', 'Ranking_2018.xlsx', 'Ranking_Results.xlsx', 'Ranking_2021.xlsx', 'sample_data']\n",
            "/content\n"
          ]
        },
        {
          "output_type": "execute_result",
          "data": {
            "text/plain": [
              "'dict_export.to_excel(file_path_export)'"
            ],
            "application/vnd.google.colaboratory.intrinsic+json": {
              "type": "string"
            }
          },
          "metadata": {},
          "execution_count": 11
        }
      ]
    },
    {
      "cell_type": "code",
      "source": [
        "result_excel = files.upload()"
      ],
      "metadata": {
        "colab": {
          "base_uri": "https://localhost:8080/",
          "height": 38
        },
        "id": "2rvtotnUm-82",
        "outputId": "7e6a720c-d47c-457d-9d4a-048f5a7bad8c"
      },
      "execution_count": null,
      "outputs": [
        {
          "data": {
            "text/html": [
              "\n",
              "     <input type=\"file\" id=\"files-b1db905a-e157-4c17-9479-1bc2946f18bc\" name=\"files[]\" multiple disabled\n",
              "        style=\"border:none\" />\n",
              "     <output id=\"result-b1db905a-e157-4c17-9479-1bc2946f18bc\">\n",
              "      Upload widget is only available when the cell has been executed in the\n",
              "      current browser session. Please rerun this cell to enable.\n",
              "      </output>\n",
              "      <script>// Copyright 2017 Google LLC\n",
              "//\n",
              "// Licensed under the Apache License, Version 2.0 (the \"License\");\n",
              "// you may not use this file except in compliance with the License.\n",
              "// You may obtain a copy of the License at\n",
              "//\n",
              "//      http://www.apache.org/licenses/LICENSE-2.0\n",
              "//\n",
              "// Unless required by applicable law or agreed to in writing, software\n",
              "// distributed under the License is distributed on an \"AS IS\" BASIS,\n",
              "// WITHOUT WARRANTIES OR CONDITIONS OF ANY KIND, either express or implied.\n",
              "// See the License for the specific language governing permissions and\n",
              "// limitations under the License.\n",
              "\n",
              "/**\n",
              " * @fileoverview Helpers for google.colab Python module.\n",
              " */\n",
              "(function(scope) {\n",
              "function span(text, styleAttributes = {}) {\n",
              "  const element = document.createElement('span');\n",
              "  element.textContent = text;\n",
              "  for (const key of Object.keys(styleAttributes)) {\n",
              "    element.style[key] = styleAttributes[key];\n",
              "  }\n",
              "  return element;\n",
              "}\n",
              "\n",
              "// Max number of bytes which will be uploaded at a time.\n",
              "const MAX_PAYLOAD_SIZE = 100 * 1024;\n",
              "\n",
              "function _uploadFiles(inputId, outputId) {\n",
              "  const steps = uploadFilesStep(inputId, outputId);\n",
              "  const outputElement = document.getElementById(outputId);\n",
              "  // Cache steps on the outputElement to make it available for the next call\n",
              "  // to uploadFilesContinue from Python.\n",
              "  outputElement.steps = steps;\n",
              "\n",
              "  return _uploadFilesContinue(outputId);\n",
              "}\n",
              "\n",
              "// This is roughly an async generator (not supported in the browser yet),\n",
              "// where there are multiple asynchronous steps and the Python side is going\n",
              "// to poll for completion of each step.\n",
              "// This uses a Promise to block the python side on completion of each step,\n",
              "// then passes the result of the previous step as the input to the next step.\n",
              "function _uploadFilesContinue(outputId) {\n",
              "  const outputElement = document.getElementById(outputId);\n",
              "  const steps = outputElement.steps;\n",
              "\n",
              "  const next = steps.next(outputElement.lastPromiseValue);\n",
              "  return Promise.resolve(next.value.promise).then((value) => {\n",
              "    // Cache the last promise value to make it available to the next\n",
              "    // step of the generator.\n",
              "    outputElement.lastPromiseValue = value;\n",
              "    return next.value.response;\n",
              "  });\n",
              "}\n",
              "\n",
              "/**\n",
              " * Generator function which is called between each async step of the upload\n",
              " * process.\n",
              " * @param {string} inputId Element ID of the input file picker element.\n",
              " * @param {string} outputId Element ID of the output display.\n",
              " * @return {!Iterable<!Object>} Iterable of next steps.\n",
              " */\n",
              "function* uploadFilesStep(inputId, outputId) {\n",
              "  const inputElement = document.getElementById(inputId);\n",
              "  inputElement.disabled = false;\n",
              "\n",
              "  const outputElement = document.getElementById(outputId);\n",
              "  outputElement.innerHTML = '';\n",
              "\n",
              "  const pickedPromise = new Promise((resolve) => {\n",
              "    inputElement.addEventListener('change', (e) => {\n",
              "      resolve(e.target.files);\n",
              "    });\n",
              "  });\n",
              "\n",
              "  const cancel = document.createElement('button');\n",
              "  inputElement.parentElement.appendChild(cancel);\n",
              "  cancel.textContent = 'Cancel upload';\n",
              "  const cancelPromise = new Promise((resolve) => {\n",
              "    cancel.onclick = () => {\n",
              "      resolve(null);\n",
              "    };\n",
              "  });\n",
              "\n",
              "  // Wait for the user to pick the files.\n",
              "  const files = yield {\n",
              "    promise: Promise.race([pickedPromise, cancelPromise]),\n",
              "    response: {\n",
              "      action: 'starting',\n",
              "    }\n",
              "  };\n",
              "\n",
              "  cancel.remove();\n",
              "\n",
              "  // Disable the input element since further picks are not allowed.\n",
              "  inputElement.disabled = true;\n",
              "\n",
              "  if (!files) {\n",
              "    return {\n",
              "      response: {\n",
              "        action: 'complete',\n",
              "      }\n",
              "    };\n",
              "  }\n",
              "\n",
              "  for (const file of files) {\n",
              "    const li = document.createElement('li');\n",
              "    li.append(span(file.name, {fontWeight: 'bold'}));\n",
              "    li.append(span(\n",
              "        `(${file.type || 'n/a'}) - ${file.size} bytes, ` +\n",
              "        `last modified: ${\n",
              "            file.lastModifiedDate ? file.lastModifiedDate.toLocaleDateString() :\n",
              "                                    'n/a'} - `));\n",
              "    const percent = span('0% done');\n",
              "    li.appendChild(percent);\n",
              "\n",
              "    outputElement.appendChild(li);\n",
              "\n",
              "    const fileDataPromise = new Promise((resolve) => {\n",
              "      const reader = new FileReader();\n",
              "      reader.onload = (e) => {\n",
              "        resolve(e.target.result);\n",
              "      };\n",
              "      reader.readAsArrayBuffer(file);\n",
              "    });\n",
              "    // Wait for the data to be ready.\n",
              "    let fileData = yield {\n",
              "      promise: fileDataPromise,\n",
              "      response: {\n",
              "        action: 'continue',\n",
              "      }\n",
              "    };\n",
              "\n",
              "    // Use a chunked sending to avoid message size limits. See b/62115660.\n",
              "    let position = 0;\n",
              "    do {\n",
              "      const length = Math.min(fileData.byteLength - position, MAX_PAYLOAD_SIZE);\n",
              "      const chunk = new Uint8Array(fileData, position, length);\n",
              "      position += length;\n",
              "\n",
              "      const base64 = btoa(String.fromCharCode.apply(null, chunk));\n",
              "      yield {\n",
              "        response: {\n",
              "          action: 'append',\n",
              "          file: file.name,\n",
              "          data: base64,\n",
              "        },\n",
              "      };\n",
              "\n",
              "      let percentDone = fileData.byteLength === 0 ?\n",
              "          100 :\n",
              "          Math.round((position / fileData.byteLength) * 100);\n",
              "      percent.textContent = `${percentDone}% done`;\n",
              "\n",
              "    } while (position < fileData.byteLength);\n",
              "  }\n",
              "\n",
              "  // All done.\n",
              "  yield {\n",
              "    response: {\n",
              "      action: 'complete',\n",
              "    }\n",
              "  };\n",
              "}\n",
              "\n",
              "scope.google = scope.google || {};\n",
              "scope.google.colab = scope.google.colab || {};\n",
              "scope.google.colab._files = {\n",
              "  _uploadFiles,\n",
              "  _uploadFilesContinue,\n",
              "};\n",
              "})(self);\n",
              "</script> "
            ],
            "text/plain": [
              "<IPython.core.display.HTML object>"
            ]
          },
          "metadata": {},
          "output_type": "display_data"
        }
      ]
    },
    {
      "cell_type": "code",
      "source": [
        "print(dict_export)"
      ],
      "metadata": {
        "id": "CZeB7xN6m-6Q",
        "colab": {
          "base_uri": "https://localhost:8080/"
        },
        "outputId": "f233b8fd-4b52-498f-b95f-71b894ee7149"
      },
      "execution_count": 51,
      "outputs": [
        {
          "output_type": "stream",
          "name": "stdout",
          "text": [
            "                          2016       2017       2018        2019        2020  \\\n",
            "Acre                 31.922562  41.935717  38.494684   32.901093   10.984435   \n",
            "Alagoas              34.353842  45.012952  51.373265   44.291417   51.344411   \n",
            "Amazonas             62.701889  62.886489  60.260387   46.320261   48.324435   \n",
            "Amapá                41.700226  55.362182  58.888839   47.820982   49.793646   \n",
            "Bahia                41.718944  50.988532  39.927960   58.545758   62.511209   \n",
            "Ceará                44.134248  54.119400  54.325828   51.831213   57.080748   \n",
            "Distrito Federal     73.793978  89.217502  84.149641  100.000000  100.000000   \n",
            "Espírito Santo       48.745857  56.681422  57.384978   68.809619   78.400157   \n",
            "Goiás                53.386678  58.168627  61.992968   72.595054   74.032349   \n",
            "Maranhão             10.805868  22.652643  19.421620   14.960081   14.048710   \n",
            "Minas Gerais         47.049349  54.333875  53.350536   67.727499   70.223950   \n",
            "Mato Grosso do Sul   41.897086  51.112049  47.145403   69.512270   65.726411   \n",
            "Mato Grosso          16.753702  18.213919  21.444796   36.668872   45.584041   \n",
            "Pará                 20.903569  30.501270  22.983892   28.653607   29.732597   \n",
            "Paraíba              39.941581  51.918197  48.214945   53.733619   64.931721   \n",
            "Pernambuco           39.534221  57.607881  54.262204   50.838614   48.770978   \n",
            "Piauí                20.792540  12.351829   8.828628   31.784757   29.833358   \n",
            "Paraná               71.268395  77.060026  71.537968   79.904410   84.517225   \n",
            "Rio de Janeiro       55.407161  63.050626  50.304719   66.403844   71.470520   \n",
            "Rio Grande do Norte  31.048397  47.524650  46.626944   47.670425   51.218462   \n",
            "Rondônia             14.058980   9.512846  16.580814    0.000000    0.000000   \n",
            "Roraima              64.227542  75.564758  74.714608   64.772010   62.392842   \n",
            "Rio Grande do Sul    39.067943  51.182564  56.231551   56.596325   61.515090   \n",
            "Santa Catarina       47.266723  55.015948  57.936488   61.020689   66.552211   \n",
            "Sergipe              34.008205  34.628742  33.872445   38.503868   42.509358   \n",
            "São Paulo            62.496593  72.409270  65.309053   88.953784   93.345130   \n",
            "Tocantins            27.890173  37.953867  31.284807   46.011366   45.250809   \n",
            "\n",
            "                           2021        2022        2023  \n",
            "Acre                  14.037789    0.000000   16.911177  \n",
            "Alagoas               38.484398   55.228592   21.385560  \n",
            "Amazonas              42.957814   45.542456   64.583274  \n",
            "Amapá                 33.401109   34.146090   58.164272  \n",
            "Bahia                 42.490555   38.933093   24.846405  \n",
            "Ceará                 44.832286   46.983079   55.499623  \n",
            "Distrito Federal      92.156889   87.487279   88.597551  \n",
            "Espírito Santo        64.554936   64.236336   75.598189  \n",
            "Goiás                 60.299117   71.607151   71.097732  \n",
            "Maranhão              12.212798    6.191355    0.000000  \n",
            "Minas Gerais          66.824733   65.279882   68.565867  \n",
            "Mato Grosso do Sul    53.202036   57.190430   54.886155  \n",
            "Mato Grosso           40.113284   47.124184   52.235908  \n",
            "Pará                  21.038253   20.594400   32.088161  \n",
            "Paraíba               39.207482   36.934770   43.813263  \n",
            "Pernambuco            41.091046   41.456057   49.501957  \n",
            "Piauí                 17.789032   19.787435   28.626881  \n",
            "Paraná               100.000000  100.000000  100.000000  \n",
            "Rio de Janeiro        63.420039   67.853102   69.787077  \n",
            "Rio Grande do Norte   15.492207   15.735126   19.447907  \n",
            "Rondônia               0.000000    7.282504   13.381733  \n",
            "Roraima               13.691130   55.128120   41.594779  \n",
            "Rio Grande do Sul     65.821345   69.107485   67.735967  \n",
            "Santa Catarina        72.575051   80.701311   72.594712  \n",
            "Sergipe               33.456415   31.143099   14.965106  \n",
            "São Paulo             96.188910   97.856803   89.738397  \n",
            "Tocantins             40.312802   30.269635   26.487148  \n"
          ]
        }
      ]
    }
  ]
}